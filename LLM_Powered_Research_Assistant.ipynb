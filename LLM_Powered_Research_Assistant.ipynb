{
  "nbformat": 4,
  "nbformat_minor": 0,
  "metadata": {
    "colab": {
      "provenance": [],
      "collapsed_sections": [
        "IGxmR0XVwcAi",
        "TtZWqj0wFTS1",
        "Uq1lhM4WFTS2",
        "EzzkvIXvFTS4",
        "K8YgK91SFjVY",
        "J6yxICeVFjVc",
        "oflaoOGiFjVd",
        "AxbCD0S56VSj",
        "gkkBb1GmSDTp",
        "qiKCOv4X0d7B",
        "uEa5sKc41T1z",
        "9zscYgoFfgXi",
        "9rDelEaoVSS9",
        "ffP1SRYbPQHN",
        "Aa32_alNPmPd",
        "D3jUEFJVQAN1",
        "hg7ZCtuqJprW",
        "LgOKkAclIi46",
        "7nTsv5ZqoH-z",
        "v_OxiKnrjQ1M"
      ],
      "gpuType": "T4"
    },
    "kernelspec": {
      "name": "python3",
      "display_name": "Python 3"
    },
    "language_info": {
      "name": "python"
    },
    "accelerator": "GPU"
  },
  "cells": [
    {
      "cell_type": "markdown",
      "metadata": {
        "id": "UmKLmjqmHMQM"
      },
      "source": [
        "<center><p float=\"center\">\n",
        "  <img src=\"https://upload.wikimedia.org/wikipedia/commons/e/e9/4_RGB_McCombs_School_Brand_Branded.png\" width=\"300\" height=\"100\"/>\n",
        "  <img src=\"https://mma.prnewswire.com/media/1458111/Great_Learning_Logo.jpg?p=facebook\" width=\"200\" height=\"100\"/>\n",
        "</p></center>\n",
        "\n",
        "<center><font size=10>Generative AI for Business Applications</center></font>\n",
        "<center><font size=6>Retrieval Augmented Generation - Week 3</center></font>"
      ]
    },
    {
      "cell_type": "markdown",
      "metadata": {
        "id": "azxWym9-HMpz"
      },
      "source": [
        "<center><p float=\"center\">\n",
        "  <img src=\"https://images.pexels.com/photos/5185082/pexels-photo-5185082.jpeg\" width=720></a>\n",
        "<center><font size=6>LLM-Powered Research Assistant</center></font>"
      ]
    },
    {
      "cell_type": "markdown",
      "metadata": {
        "id": "Aa1yXUesL7Zy"
      },
      "source": [
        "# Problem Statement"
      ]
    },
    {
      "cell_type": "markdown",
      "metadata": {
        "id": "zFN8LrodMR7w"
      },
      "source": [
        "## Business Context"
      ]
    },
    {
      "cell_type": "markdown",
      "source": [
        "In today's competitive and rapidly evolving technological landscape, research and development teams are often overwhelmed by the volume of new scientific publications. Manually reviewing, summarizing, and extracting key insights from these documents is time-consuming and can delay critical innovation decisions. To address this challenge, a technology consulting firm is building an LLM-powered assistant designed to streamline the literature review process. This AI assistant will automatically extract summaries, metadata, and emerging trends from collections of research papers, significantly reducing manual effort and accelerating the discovery of relevant information. By applying this solution to a curated dataset of recent publications, the firm aims to demonstrate how advanced language models can enhance productivity and support timely, data-driven innovation across research-intensive domains."
      ],
      "metadata": {
        "id": "wwelbXBnOTbZ"
      }
    },
    {
      "cell_type": "markdown",
      "source": [
        "##  Objective"
      ],
      "metadata": {
        "id": "qDG_248npouB"
      }
    },
    {
      "cell_type": "markdown",
      "source": [
        "The goal is to develop a prototype that demonstrates how Natural Language Processing (NLP) can support research teams in efficiently querying large scientific documents using Retrieval-Augmented Generation (RAG).\n",
        "\n",
        "Specifically, the system aims to:\n",
        "\n",
        "* Answer user questions by retrieving relevant content from long research papers.\n",
        "* Support natural-language queries without requiring users to read the entire document.\n",
        "* Simulate an intelligent assistant that simplifies literature review workflows.\n",
        "\n",
        "This case study focuses on building a small part of that broader solution, a system where users upload lengthy research PDFs, and the model provides grounded, relevant answers using RAG. This enables researchers to extract targeted information faster and make informed decisions more quickly.\n",
        "\n",
        "Through successful implementation, the organization seeks to improve research productivity, reduce time spent on manual document review, and accelerate innovation.\n"
      ],
      "metadata": {
        "id": "uMU1_PHEXMHt"
      }
    },
    {
      "cell_type": "markdown",
      "source": [
        "## Data Description"
      ],
      "metadata": {
        "id": "IGxmR0XVwcAi"
      }
    },
    {
      "cell_type": "markdown",
      "source": [
        "The dataset consists of four research papers in PDF format focused on Prompt Engineering.\n",
        "\n",
        "Here are the research paper names and links:\n",
        "\n",
        "1. **Language Models are Few-Shot Learners**\n",
        "   *Authors: Tom B. Brown et al. (OpenAI)*\n",
        "\n",
        "2. **The Power of Scale for Parameter-Efficient Prompt Tuning**\n",
        "   *Authors: Brian Lester, Rami Al-Rfou, Noah Constant (Google Research)*\n",
        "\n",
        "3. **AutoPrompt: Eliciting Knowledge from Language Models with Automatically Generated Prompts**\n",
        "   *Authors: Taylor Shin, Yasaman Razeghi, Robert L. Logan IV, Eric Wallace, Sameer Singh*\n",
        "\n",
        "4. **Prompt Programming for Large Language Models: Beyond the Few-Shot Paradigm**\n",
        "   *Authors: Andy J. W. Reynolds, Sam McDonell (Stanford)*\n",
        "\n"
      ],
      "metadata": {
        "id": "AMTN_p_Hfi-Q"
      }
    },
    {
      "cell_type": "markdown",
      "metadata": {
        "id": "lnwETBOE6Bz5"
      },
      "source": [
        "# Installing and Importing Necessary Libraries"
      ]
    },
    {
      "cell_type": "code",
      "source": [
        "# Install required libraries\n",
        "!pip install -q langchain_community==0.3.27 \\\n",
        "              langchain==0.3.27 \\\n",
        "              chromadb==1.0.15 \\\n",
        "              pymupdf==1.26.3 \\\n",
        "              tiktoken==0.9.0 \\\n",
        "              ragas==0.3.0 \\\n",
        "              datasets==4.0.0 \\\n",
        "              evaluate==0.4.5"
      ],
      "metadata": {
        "collapsed": true,
        "id": "azfzUEs6A7Tq"
      },
      "execution_count": null,
      "outputs": []
    },
    {
      "cell_type": "markdown",
      "source": [
        "**Note**:\n",
        "- After running the above cell, kindly restart the runtime (for Google Colab) or notebook kernel (for Jupyter Notebook), and run all cells sequentially from the next cell.\n",
        "- On executing the above line of code, you might see a warning regarding package dependencies. This error message can be ignored as the above code ensures that all necessary libraries and their dependencies are maintained to successfully execute the code in ***this notebook***."
      ],
      "metadata": {
        "id": "mDp-EYZH-69E"
      }
    },
    {
      "cell_type": "markdown",
      "source": [
        "***Prompt:***\n",
        "\n",
        "<font size=3 color=\"#4682B4\"><b>I want to evaluate the performance of a Retrieval-Augmented Generation (RAG) system using a set of documents and user queries. Help me import the necessary Python libraries to:\n",
        "\n",
        "1. Read and manipulate data (CSV, JSON) </ul>\n",
        "2. Interact with the operating system (e.g., environment variables)\n",
        "3. Load and split PDF documents into manageable text chunks\n",
        "4. Generate vector embeddings using OpenAI\n",
        "5. Store and retrieve vectors using Chroma vector database\n",
        "6. Evaluate RAG performance using metrics such as Faithfulness, Answer Relevancy, and LLM Context Precision\n",
        "7. Structure evaluation data using the Hugging Face `datasets` library\n",
        "8. Connect to OpenAI's LLMs via LangChain\n",
        "\n",
        "</font>\n",
        "\n",
        "<font size=3 color=\"#4682B4\"><b>\n",
        "\n",
        "</font>"
      ],
      "metadata": {
        "id": "vaEedhDlUnVz"
      }
    },
    {
      "cell_type": "code",
      "source": [
        "# Import core libraries\n",
        "import os                                                                       # Interact with the operating system (e.g., set environment variables)\n",
        "import json                                                                     # Read/write JSON data\n",
        "\n",
        "# Import libraries for working with PDFs and OpenAI\n",
        "from langchain.document_loaders import PyMuPDFLoader                            # Load and extract text from PDF files\n",
        "from openai import OpenAI                                                       # Access OpenAI's models and services\n",
        "\n",
        "# Import libraries for processing dataframes and text\n",
        "import tiktoken                                                                 # Tokenizer used for counting and splitting text for models\n",
        "import pandas as pd                                                             # Load, manipulate, and analyze tabular data\n",
        "\n",
        "# Import LangChain components for data loading, chunking, embedding, and vector DBs\n",
        "from langchain.text_splitter import RecursiveCharacterTextSplitter              # Break text into overlapping chunks for processing\n",
        "from langchain.embeddings.openai import OpenAIEmbeddings                        # Create vector embeddings using OpenAI's models  # type: ignore\n",
        "from langchain.vectorstores import Chroma                                       # Store and search vector embeddings using Chroma DB  # type: ignore\n",
        "\n",
        "# Import components to run evaluation on RAG pipeline outputs\n",
        "from ragas import evaluate\n",
        "from ragas.metrics import (\n",
        "    Faithfulness,\n",
        "    AnswerRelevancy,\n",
        "    LLMContextPrecisionWithoutReference,\n",
        ")\n",
        "from datasets import Dataset                                                    # Used to structure the input (questions, answers, contexts etc.) in tabular format\n",
        "from langchain_openai import ChatOpenAI                                         # This is needed since LLM is used in metric computation"
      ],
      "metadata": {
        "id": "3RO3d6qKBMs9"
      },
      "execution_count": null,
      "outputs": []
    },
    {
      "cell_type": "markdown",
      "metadata": {
        "id": "TtZWqj0wFTS1"
      },
      "source": [
        "# Question Answering using LLM"
      ]
    },
    {
      "cell_type": "markdown",
      "metadata": {
        "id": "Uq1lhM4WFTS2"
      },
      "source": [
        "### OpenAI API Calling\n",
        "\n"
      ]
    },
    {
      "cell_type": "markdown",
      "metadata": {
        "id": "KdkefZubIGCw"
      },
      "source": [
        "***Prompt***:\n",
        "\n",
        "<font size=3 color=\"#4682B4\"><b> Read the API key and base URL from a config file, set them as environment variables, and initialize the OpenAI client.\n",
        "</font>"
      ]
    },
    {
      "cell_type": "code",
      "source": [
        "# Load the JSON file and extract values\n",
        "file_name = 'config.json'                                                       # Name of the configuration file\n",
        "with open(file_name, 'r') as file:                                              # Open the config file in read mode\n",
        "    config = json.load(file)                                                    # Load the JSON content as a dictionary\n",
        "    API_KEY = config.get(\"API_KEY\")                                             # Extract the API key from the config\n",
        "    OPENAI_API_BASE = config.get(\"OPENAI_API_BASE\")                             # Extract the OpenAI base URL from the config\n",
        "\n",
        "# Store API credentials in environment variables\n",
        "os.environ['OPENAI_API_KEY'] = API_KEY                                          # Set API key as environment variable\n",
        "os.environ[\"OPENAI_BASE_URL\"] = OPENAI_API_BASE                                 # Set API base URL as environment variable\n",
        "\n",
        "# Initialize OpenAI client\n",
        "client = OpenAI()                                                               # Create an instance of the OpenAI client"
      ],
      "metadata": {
        "id": "eMi5GjvNBrlO"
      },
      "execution_count": null,
      "outputs": []
    },
    {
      "cell_type": "markdown",
      "metadata": {
        "id": "EzzkvIXvFTS4"
      },
      "source": [
        "### Defining the function to Generate a Response From the LLM"
      ]
    },
    {
      "cell_type": "markdown",
      "metadata": {
        "id": "MqK9MySLIIMQ"
      },
      "source": [
        "***Prompt***:\n",
        "\n",
        "<font size=3 color=\"#4682B4\"><b> Create a function to query the OpenAI model using user input and return the generated response.\n",
        "</font>"
      ]
    },
    {
      "cell_type": "code",
      "execution_count": null,
      "metadata": {
        "id": "Ve3UOjcUFTS4"
      },
      "outputs": [],
      "source": [
        "# Define a function to get a response\n",
        "def response(user_prompt, max_tokens=500, temperature=0.3, top_p=0.95):\n",
        "    # Create a chat completion using the OpenAI client\n",
        "    completion = client.chat.completions.create(\n",
        "        model=\"gpt-4o-mini\",                                                     # Specify the model to use\n",
        "        messages=[\n",
        "            {\"role\": \"user\", \"content\": user_prompt}                            # User prompt is the input/query to respond to\n",
        "        ],\n",
        "        max_tokens=max_tokens,                                                  # Max number of tokens to generate in the response\n",
        "        temperature=temperature,                                                # Controls randomness in output\n",
        "        top_p=top_p                                                             # Controls diversity via nucleus sampling\n",
        "    )\n",
        "    return completion.choices[0].message.content                                # Return the text content from the model's reply                                                        # Execute the function with the prompts"
      ]
    },
    {
      "cell_type": "markdown",
      "metadata": {
        "id": "K8YgK91SFjVY"
      },
      "source": [
        "### Question 1: What is the difference between zero-shot and few-shot prompting in language models?"
      ]
    },
    {
      "cell_type": "code",
      "execution_count": null,
      "metadata": {
        "id": "u2Q_QZ4OFjVa"
      },
      "outputs": [],
      "source": [
        "# Define the question\n",
        "question_1 = \"What is the difference between zero-shot and few-shot prompting in language models?\"\n",
        "base_prompt_response_1 = response(question_1)\n",
        "base_prompt_response_1"
      ]
    },
    {
      "cell_type": "markdown",
      "metadata": {
        "id": "J6yxICeVFjVc"
      },
      "source": [
        "### Question 2: How does the performance of in-context learning change based on the number of examples provided and the nature of the task?"
      ]
    },
    {
      "cell_type": "code",
      "execution_count": null,
      "metadata": {
        "id": "WO1OTE9CFjVd"
      },
      "outputs": [],
      "source": [
        "question_2 = \"How does the performance of in-context learning change based on the number of examples provided and the nature of the task?\"\n",
        "base_prompt_response_2 = response(question_2)\n",
        "base_prompt_response_2"
      ]
    },
    {
      "cell_type": "markdown",
      "metadata": {
        "id": "oflaoOGiFjVd"
      },
      "source": [
        "### Question 3: What are the limitations of discrete prompts, and how to overcome them?"
      ]
    },
    {
      "cell_type": "code",
      "execution_count": null,
      "metadata": {
        "id": "JFm5Tq7RFjVe"
      },
      "outputs": [],
      "source": [
        "question_3 = \"What are the limitations of discrete prompts, and how to overcome them?\"\n",
        "base_prompt_response_3 = response(question_3)\n",
        "base_prompt_response_3"
      ]
    },
    {
      "cell_type": "markdown",
      "source": [
        "### Storing the generated outputs from the base prompt\n"
      ],
      "metadata": {
        "id": "AxbCD0S56VSj"
      }
    },
    {
      "cell_type": "markdown",
      "metadata": {
        "id": "LSR-poqyIOu9"
      },
      "source": [
        "***Prompt***:\n",
        "\n",
        "<font size=3 color=\"#4682B4\"><b> Create a DataFrame to store questions and their responses, and preview the first few rows.\n",
        "</font>"
      ]
    },
    {
      "cell_type": "code",
      "source": [
        "# Create the DataFrame\n",
        "result_df = pd.DataFrame({\n",
        "    \"questions\": [question_1, question_2, question_3],\n",
        "    \"base_prompt_responses\": [base_prompt_response_1, base_prompt_response_2, base_prompt_response_3]})\n",
        "\n",
        "# Display the DataFrame\n",
        "result_df.head()"
      ],
      "metadata": {
        "id": "MKc_HzFI6eRb"
      },
      "execution_count": null,
      "outputs": []
    },
    {
      "cell_type": "markdown",
      "source": [
        "# Data Preparation for RAG"
      ],
      "metadata": {
        "id": "t_O1PGdNO2M9"
      }
    },
    {
      "cell_type": "markdown",
      "metadata": {
        "id": "uTpWESc53dL9"
      },
      "source": [
        "## Loading the Data"
      ]
    },
    {
      "cell_type": "code",
      "execution_count": null,
      "metadata": {
        "id": "a5dLjPsyi1A4"
      },
      "outputs": [],
      "source": [
        "# uncomment and run the below code snippets if the dataset is present in the Google Drive\n",
        "# from google.colab import drive\n",
        "# drive.mount('/content/drive')"
      ]
    },
    {
      "cell_type": "code",
      "source": [
        "! unzip \"/content/ResearchPaper.zip\""
      ],
      "metadata": {
        "id": "riYOziN-AnxV"
      },
      "execution_count": null,
      "outputs": []
    },
    {
      "cell_type": "code",
      "source": [
        "# Uploading multiple pdfs:\n",
        "from glob import glob\n",
        "\n",
        "# Path to folder with PDFs\n",
        "DOC_FOLDER = \"ResearchPaper/\"\n",
        "pdf_files = glob(DOC_FOLDER + \"*.pdf\")"
      ],
      "metadata": {
        "id": "M-uP0I0iBWx9"
      },
      "execution_count": null,
      "outputs": []
    },
    {
      "cell_type": "code",
      "source": [
        "pdf_files"
      ],
      "metadata": {
        "id": "J5Sqz_IeBy0d"
      },
      "execution_count": null,
      "outputs": []
    },
    {
      "cell_type": "markdown",
      "metadata": {
        "id": "TPpzw0TOIblc"
      },
      "source": [
        "***Prompt***:\n",
        "\n",
        "<font size=3 color=\"#4682B4\"><b>Read each PDF file from the pdf_files list using PyMuPDFLoader and store the extracted documents in all_documents.\n",
        "</font>"
      ]
    },
    {
      "cell_type": "code",
      "source": [
        "# Load each PDF file and store the documents\n",
        "all_documents = []\n",
        "for pdf_file in pdf_files:\n",
        "    loader = PyMuPDFLoader(pdf_file)\n",
        "    documents = loader.load()\n",
        "    all_documents.extend(documents)\n"
      ],
      "metadata": {
        "id": "mhUTEPFHfdGi"
      },
      "execution_count": null,
      "outputs": []
    },
    {
      "cell_type": "markdown",
      "metadata": {
        "id": "LECMxTH-zB-R"
      },
      "source": [
        "## Data Chunking"
      ]
    },
    {
      "cell_type": "markdown",
      "source": [
        "### Chunk the PDF into Manageable Text Sections"
      ],
      "metadata": {
        "id": "oQfw-qErRoGr"
      }
    },
    {
      "cell_type": "markdown",
      "metadata": {
        "id": "LeUxMqd6Idz6"
      },
      "source": [
        "***Prompt***:\n",
        "\n",
        "<font size=3 color=\"#4682B4\"><b> Create a text splitter to divide content into chunks.\n",
        "</font>"
      ]
    },
    {
      "cell_type": "code",
      "execution_count": null,
      "metadata": {
        "id": "uG0_pBmizGGt"
      },
      "outputs": [],
      "source": [
        "# Initialize a text splitter that uses OpenAI's token encoder\n",
        "text_splitter = RecursiveCharacterTextSplitter.from_tiktoken_encoder(\n",
        "    encoding_name='cl100k_base',                                                # Encoding used by popular LLMs\n",
        "    chunk_size=512,                                                             # Each chunk will have up to 512 character\n",
        ")"
      ]
    },
    {
      "cell_type": "markdown",
      "source": [
        "### Split the Loaded PDF into Chunks for Further Processing"
      ],
      "metadata": {
        "id": "P7XqisNKR3DZ"
      }
    },
    {
      "cell_type": "markdown",
      "metadata": {
        "id": "dO7-rJPHIeR6"
      },
      "source": [
        "***Prompt***:\n",
        "\n",
        "<font size=3 color=\"#4682B4\"><b>Apply the text splitter on all_documents to create smaller chunks.\n",
        "</font>"
      ]
    },
    {
      "cell_type": "code",
      "source": [
        "# Use the text splitter to divide the PDF content into smaller chunks\n",
        "document_chunks = text_splitter.split_documents(all_documents)                  # Returns a list of chunked documents"
      ],
      "metadata": {
        "id": "N3Mtccm2R9tw"
      },
      "execution_count": null,
      "outputs": []
    },
    {
      "cell_type": "markdown",
      "source": [
        "### Check the Number of Chunks Created"
      ],
      "metadata": {
        "id": "gkkBb1GmSDTp"
      }
    },
    {
      "cell_type": "markdown",
      "metadata": {
        "id": "nPnP6zBUIfjB"
      },
      "source": [
        "***Prompt***:\n",
        "\n",
        "<font size=3 color=\"#4682B4\"><b> Display the total number of chunks generated from the documents.\n",
        "</font>"
      ]
    },
    {
      "cell_type": "code",
      "execution_count": null,
      "metadata": {
        "id": "i6TQ-mmLzR9I"
      },
      "outputs": [],
      "source": [
        "print(f\"Created {len(document_chunks)} chunks.\")"
      ]
    },
    {
      "cell_type": "markdown",
      "metadata": {
        "id": "BvHVejcWz0Bl"
      },
      "source": [
        "## Generate Vector Embeddings for Text Chunks Using OpenAI"
      ]
    },
    {
      "cell_type": "markdown",
      "metadata": {
        "id": "13O4pR93Igg3"
      },
      "source": [
        "***Prompt***:\n",
        "\n",
        "<font size=3 color=\"#4682B4\"><b> Initialize the OpenAI embedding model using API credentials, create embeddings for the first two chunks, and display the vector dimension.\n",
        "</font>"
      ]
    },
    {
      "cell_type": "code",
      "execution_count": null,
      "metadata": {
        "id": "c6cZVZWQz15c",
        "collapsed": true
      },
      "outputs": [],
      "source": [
        "# Initialize the OpenAI Embeddings model with API credentials\n",
        "embedding_model = OpenAIEmbeddings(\n",
        "    openai_api_key=API_KEY,                                                     # Your OpenAI API key for authentication\n",
        "    openai_api_base=OPENAI_API_BASE                                             # The OpenAI API base URL endpoint\n",
        ")\n",
        "\n",
        "# Generate embeddings (vector representations) for the first two document chunks\n",
        "embedding_1 = embedding_model.embed_query(document_chunks[0].page_content)      # Embedding for chunk 0\n",
        "embedding_2 = embedding_model.embed_query(document_chunks[1].page_content)      # Embedding for chunk 1\n",
        "\n",
        "# Check and print the dimension (length) of the embedding vector\n",
        "print(\"Dimension of the embedding vector \", len(embedding_1))                   # Typically 1536 or 2048 depending on model"
      ]
    },
    {
      "cell_type": "markdown",
      "source": [
        "Below is a sample code snippet you can refer to for using an open-source embedding model."
      ],
      "metadata": {
        "id": "uXGongq1_rn9"
      }
    },
    {
      "cell_type": "code",
      "source": [
        "# file_name = 'config.json'                                                       # Name of the configuration file\n",
        "# with open(file_name, 'r') as file:                                              # Open the config file in read mode\n",
        "#     config = json.load(file)                                                    # Load the JSON content as a dictionary\n",
        "#     HF_TOKEN = config.get(\"HF_TOKEN\")\n",
        "\n",
        "\n",
        "# # Store API credentials in environment variables\n",
        "# os.environ['HF_TOKEN'] = HF_TOKEN\n"
      ],
      "metadata": {
        "id": "w_oEdQuICLXT"
      },
      "execution_count": null,
      "outputs": []
    },
    {
      "cell_type": "code",
      "source": [
        "# from langchain_community.embeddings.sentence_transformer import SentenceTransformerEmbeddings\n",
        "\n",
        "# # Use HuggingFaceEmbeddings wrapper with SentenceTransformer model\n",
        "# embedding_model = SentenceTransformerEmbeddings(model_name='all-MiniLM-L6-v2')\n"
      ],
      "metadata": {
        "id": "1VbkCKrv_XdC"
      },
      "execution_count": null,
      "outputs": []
    },
    {
      "cell_type": "markdown",
      "metadata": {
        "id": "qiKCOv4X0d7B"
      },
      "source": [
        "## Vector Database Creation"
      ]
    },
    {
      "cell_type": "markdown",
      "metadata": {
        "id": "5TG8NT4wIkTH"
      },
      "source": [
        "***Prompt***:\n",
        "\n",
        "<font size=3 color=\"#4682B4\"><b> Convert chunks into vector representations using the embedding model.\n",
        "</font>"
      ]
    },
    {
      "cell_type": "code",
      "execution_count": null,
      "metadata": {
        "id": "8g-D3URW0iEO"
      },
      "outputs": [],
      "source": [
        "# Building the vector store and saving it to disk for future use\n",
        "vectorstore = Chroma.from_documents(\n",
        "    document_chunks,                                                            # Documents to index\n",
        "    embedding_model                                                             # Embedding model for converting text to vectors\n",
        " )"
      ]
    },
    {
      "cell_type": "markdown",
      "metadata": {
        "id": "uEa5sKc41T1z"
      },
      "source": [
        "## Retrieval and Response Generation using Vector Search"
      ]
    },
    {
      "cell_type": "markdown",
      "source": [
        "### Convert Vector Database into a Retriever and Retrieve Relevant Documents"
      ],
      "metadata": {
        "id": "9zscYgoFfgXi"
      }
    },
    {
      "cell_type": "markdown",
      "metadata": {
        "id": "FTXCf7GvIrKt"
      },
      "source": [
        "***Prompt***:\n",
        "\n",
        "<font size=3 color=\"#4682B4\"><b> Set up a similarity-based retriever to fetch the top 5 most relevant document chunks.\n",
        "</font>"
      ]
    },
    {
      "cell_type": "code",
      "execution_count": null,
      "metadata": {
        "id": "zO5kmp381VsX"
      },
      "outputs": [],
      "source": [
        "# Wraping the vector store into a retriever object to fetch the most relevant documents for a given query using similarity search\n",
        "retriever = vectorstore.as_retriever(\n",
        "    search_type='similarity',                                                   # Use similarity search (based on vector distance)\n",
        "    search_kwargs={'k': 5}                                                      # Retrieve top 5 most relevant documents\n",
        ")"
      ]
    },
    {
      "cell_type": "markdown",
      "metadata": {
        "id": "vw8qcwq66B0C",
        "nteract": {
          "transient": {
            "deleting": false
          }
        }
      },
      "source": [
        "## System and User Prompt Template"
      ]
    },
    {
      "cell_type": "markdown",
      "metadata": {
        "id": "3wRkZYtO6B0D"
      },
      "source": [
        "Prompts guide the model to generate accurate responses. Here, we define two parts:\n",
        "\n",
        "    1. The system message describing the assistant's role.\n",
        "    2. A user message template including context and the question."
      ]
    },
    {
      "cell_type": "code",
      "execution_count": null,
      "metadata": {
        "gather": {
          "logged": 1737358838889
        },
        "id": "Dyl60SEs6B0D",
        "jupyter": {
          "outputs_hidden": false,
          "source_hidden": false
        },
        "nteract": {
          "transient": {
            "deleting": false
          }
        }
      },
      "outputs": [],
      "source": [
        "# Define the system prompt for the model\n",
        "qna_system_message = \"\"\"\n",
        "You are an AI assistant designed to support research teams in efficiently reviewing scientific literature. Your task is to provide evidence-based, concise, and relevant summaries based on the context provided from research papers.\n",
        "\n",
        "User input will include the necessary context for you to answer their questions. This context will begin with the token:\n",
        "\n",
        "###Context\n",
        "The context contains excerpts from one or more research papers, along with associated metadata such as titles, authors, abstracts, keywords, and specific sections relevant to the query.\n",
        "\n",
        "When crafting your response\n",
        "-Use only the provided context to answer the question.\n",
        "-If the answer is found in the context, respond with concise and insight-focused summaries.\n",
        "-Include the paper title and, where applicable, arXiv ID or section reference as the source.\n",
        "-If the question is unrelated to the context or the context is empty, clearly respond with: \"Sorry, this is out of my knowledge base.\"\n",
        "\n",
        "\n",
        "Please adhere to the following response guidelines:\n",
        "-Provide clear, direct answers using only the given context.\n",
        "-Do not include any additional information outside of the context.\n",
        "-Avoid rephrasing or generalizing unless explicitly relevant to the question.\n",
        "-If no relevant answer exists in the context, respond with: \"Sorry, this is out of my knowledge base.\"\n",
        "-If the context is not provided, your response should also be: \"Sorry, this is out of my knowledge base.\"\n",
        "\n",
        "\n",
        "Here is an example of how to structure your response:\n",
        "\n",
        "Answer:\n",
        "[Answer based on context]\n",
        "\n",
        "Source:\n",
        "[Source details with page or section]\n",
        "\"\"\""
      ]
    },
    {
      "cell_type": "code",
      "execution_count": null,
      "metadata": {
        "id": "XW38rWoNjJkQ"
      },
      "outputs": [],
      "source": [
        "# Define the user message template\n",
        "qna_user_message_template = \"\"\"\n",
        "###Context\n",
        "Here are some excerpts from GEN AI Research Paper and their sources that are relevant to the Gen AI question mentioned below:\n",
        "{context}\n",
        "\n",
        "###Question\n",
        "{question}\n",
        "\"\"\""
      ]
    },
    {
      "cell_type": "markdown",
      "metadata": {
        "id": "TkIteX4m6mny"
      },
      "source": [
        "### Response Function"
      ]
    },
    {
      "cell_type": "markdown",
      "metadata": {
        "id": "wQqCzSK0Isp1"
      },
      "source": [
        "***Prompt***:\n",
        "\n",
        "<font size=3 color=\"#4682B4\"><b> Create a function to generate RAG-based responses from user input, retrieve relevant document chunks, build context, and use the OpenAI model to generate a context-aware answer.\n",
        "</font>"
      ]
    },
    {
      "cell_type": "code",
      "execution_count": null,
      "metadata": {
        "id": "J-SfCZqC6B0E",
        "jupyter": {
          "outputs_hidden": false,
          "source_hidden": false
        },
        "nteract": {
          "transient": {
            "deleting": false
          }
        }
      },
      "outputs": [],
      "source": [
        "def generate_rag_response(user_input,k=5,max_tokens=500,temperature=0.3,top_p=0.95):\n",
        "    global qna_system_message,qna_user_message_template\n",
        "    # Retrieve relevant document chunks\n",
        "    relevant_document_chunks = retriever.get_relevant_documents(query=user_input,k=k)\n",
        "    context_list = [d.page_content for d in relevant_document_chunks]\n",
        "\n",
        "    # Combine document chunks into a single context\n",
        "    context_for_query = \". \".join(context_list)\n",
        "\n",
        "    user_message = qna_user_message_template.replace('{context}', context_for_query)\n",
        "    user_message = user_message.replace('{question}', user_input)\n",
        "\n",
        "    # Generate the response\n",
        "    try:\n",
        "        response = client.chat.completions.create(\n",
        "        model=\"gpt-4o-mini\",\n",
        "        messages=[\n",
        "            {\"role\": \"system\", \"content\": qna_system_message},\n",
        "            {\"role\": \"user\", \"content\": user_message}\n",
        "        ],\n",
        "        max_tokens=max_tokens,\n",
        "        temperature=temperature,\n",
        "        top_p=top_p\n",
        "        )\n",
        "        # Extract and print the generated text from the response\n",
        "        response = response.choices[0].message.content.strip()\n",
        "    except Exception as e:\n",
        "        response = f'Sorry, I encountered the following error: \\n {e}'\n",
        "\n",
        "    return response"
      ]
    },
    {
      "cell_type": "markdown",
      "source": [
        "#### Below are sample code snippets you can refer to for downloading the open source model and implementing the function to generate a RAG-based response."
      ],
      "metadata": {
        "id": "9rDelEaoVSS9"
      }
    },
    {
      "cell_type": "code",
      "source": [
        "# !pip install transformers torch"
      ],
      "metadata": {
        "id": "A3ph_lvWToPr"
      },
      "execution_count": null,
      "outputs": []
    },
    {
      "cell_type": "code",
      "source": [
        "# from transformers import AutoModelForCausalLM, AutoTokenizer\n",
        "# import torch\n",
        "\n",
        "# # Define model name from Hugging Face\n",
        "# MISTRAL_MODEL_NAME = \"mistralai/Mistral-7B-Instruct-v0.1\"\n",
        "\n",
        "# # Load tokenizer and model\n",
        "# tokenizer = AutoTokenizer.from_pretrained(MISTRAL_MODEL_NAME)\n",
        "# model = AutoModelForCausalLM.from_pretrained(MISTRAL_MODEL_NAME,token=HF_TOKEN)\n",
        "\n",
        "# # Move model to GPU if available\n",
        "# device = torch.device(\"cuda\" if torch.cuda.is_available() else \"cpu\")\n",
        "# model.to(device)"
      ],
      "metadata": {
        "id": "Yc9EkwhJVCnG"
      },
      "execution_count": null,
      "outputs": []
    },
    {
      "cell_type": "code",
      "source": [
        "# def generate_rag_response_mistral(user_input, k=5, max_tokens=500, temperature=0.7, top_p=0.95):\n",
        "#     global qna_system_message, qna_user_message_template, retriever, model, tokenizer\n",
        "\n",
        "#     try:\n",
        "\n",
        "#         relevant_chunks = retriever.get_relevant_documents(query=user_input, k=k)\n",
        "#         context_list = [doc.page_content for doc in relevant_chunks]\n",
        "#         context = \". \".join(context_list)\n",
        "\n",
        "\n",
        "#         user_message = qna_user_message_template.replace(\"{context}\", context)\n",
        "#         user_message = user_message.replace(\"{question}\", user_input)\n",
        "#         prompt = f\"{qna_system_message.strip()}\\n\\n{user_message.strip()}\"\n",
        "\n",
        "\n",
        "#         inputs = tokenizer(prompt, return_tensors=\"pt\").to(model.device)\n",
        "#         outputs = model.generate(\n",
        "#             **inputs,\n",
        "#             max_new_tokens=max_tokens,\n",
        "#             temperature=temperature,\n",
        "#             top_p=top_p,\n",
        "#             do_sample=True\n",
        "#         )\n",
        "\n",
        "#         response = tokenizer.decode(outputs[0], skip_special_tokens=True).strip()\n",
        "\n",
        "#     except Exception as e:\n",
        "#         response = f\"Sorry, I encountered the following error:\\n{e}\"\n",
        "\n",
        "#     return response\n"
      ],
      "metadata": {
        "id": "_qLxSSsJAtjg"
      },
      "execution_count": null,
      "outputs": []
    },
    {
      "cell_type": "markdown",
      "source": [
        "# Question Answering using RAG"
      ],
      "metadata": {
        "id": "ffP1SRYbPQHN"
      }
    },
    {
      "cell_type": "markdown",
      "metadata": {
        "id": "JjajBEj06B0E"
      },
      "source": [
        "### Question 1: What is the difference between zero-shot and few-shot prompting in language models?"
      ]
    },
    {
      "cell_type": "code",
      "execution_count": null,
      "metadata": {
        "id": "Gt4TAQNa6B0E"
      },
      "outputs": [],
      "source": [
        "response_with_rag_1 = generate_rag_response(question_1)\n",
        "response_with_rag_1"
      ]
    },
    {
      "cell_type": "markdown",
      "metadata": {
        "id": "QDw8zXuq6B0F"
      },
      "source": [
        "### Question 2: How does the performance of in-context learning change based on the number of examples provided and the nature of the task?"
      ]
    },
    {
      "cell_type": "code",
      "execution_count": null,
      "metadata": {
        "id": "i92cv0dQ6B0F"
      },
      "outputs": [],
      "source": [
        "response_with_rag_2 = generate_rag_response(question_2)\n",
        "response_with_rag_2"
      ]
    },
    {
      "cell_type": "markdown",
      "metadata": {
        "id": "TggYyQPL6B0G"
      },
      "source": [
        "### Question 3: What are the limitations of discrete prompts, and how to overcome them?"
      ]
    },
    {
      "cell_type": "code",
      "execution_count": null,
      "metadata": {
        "id": "Ed6x6LGb6B0G"
      },
      "outputs": [],
      "source": [
        "response_with_rag_3 = generate_rag_response(question_3)\n",
        "response_with_rag_3"
      ]
    },
    {
      "cell_type": "markdown",
      "source": [
        "### Storing the RAG system outputs\n"
      ],
      "metadata": {
        "id": "ukLJz60rI78h"
      }
    },
    {
      "cell_type": "markdown",
      "metadata": {
        "id": "3RrNCznjPueP"
      },
      "source": [
        "***Prompt***:\n",
        "\n",
        "<font size=3 color=\"#4682B4\"><b>\n",
        "Insert model responses generated with RAG pipeline into a new column of result_df and preview the updated DataFrame.\n",
        "</font>"
      ]
    },
    {
      "cell_type": "code",
      "source": [
        "# Add the results to a new column in the DataFrame\n",
        "result_df['responses_with_RAG'] = [response_with_rag_1, response_with_rag_2, response_with_rag_3]\n",
        "\n",
        "# Display the DataFrame\n",
        "result_df.head()"
      ],
      "metadata": {
        "id": "Z6X3yithJIVF"
      },
      "execution_count": null,
      "outputs": []
    },
    {
      "cell_type": "markdown",
      "metadata": {
        "id": "yyQrTipNfuBN"
      },
      "source": [
        "# Output Evaluation"
      ]
    },
    {
      "cell_type": "markdown",
      "metadata": {
        "id": "JtMCdxARiR_o"
      },
      "source": [
        "## Evaluating Output with LLM-as-a-judge\n",
        "\n"
      ]
    },
    {
      "cell_type": "markdown",
      "source": [
        "### **Defining required System Prompts**"
      ],
      "metadata": {
        "id": "tY9j1MVei5eI"
      }
    },
    {
      "cell_type": "code",
      "execution_count": null,
      "metadata": {
        "id": "2dDxkZdyKSnh",
        "tags": []
      },
      "outputs": [],
      "source": [
        "groundedness_rater_system_message = \"\"\"\n",
        "You are tasked with rating AI generated answers to questions posed by users.\n",
        "You will be presented a question, context used by the AI system to generate the answer and an AI generated answer to the question.\n",
        "In the input, the question will begin with ###Question, the context will begin with ###Context while the AI generated answer will begin with ###Answer.\n",
        "\n",
        "Evaluation criteria:\n",
        "The task is to judge the extent to which the metric is followed by the answer.\n",
        "1 - The metric is not followed at all\n",
        "2 - The metric is followed only to a limited extent\n",
        "3 - The metric is followed to a good extent\n",
        "4 - The metric is followed mostly\n",
        "5 - The metric is followed completely\n",
        "\n",
        "Metric:\n",
        "The answer should be derived only from the information presented in the context\n",
        "\n",
        "Instructions:\n",
        "1. First write down the steps that are needed to evaluate the answer as per the metric.\n",
        "2. Give a step-by-step explanation if the answer adheres to the metric considering the question and context as the input.\n",
        "3. Next, evaluate the extent to which the metric is followed.\n",
        "4. Use the previous information to rate the answer using the evaluaton criteria and assign a score.\n",
        "\n",
        "Return only the Score in last in a dictionary format not json and socre should be in the range of 1 to 5.\n",
        "Example {groundedness_score:4}\n",
        "\"\"\""
      ]
    },
    {
      "cell_type": "code",
      "execution_count": null,
      "metadata": {
        "id": "NIosu2Wk7OVs",
        "tags": []
      },
      "outputs": [],
      "source": [
        "relevance_rater_system_message = \"\"\"\n",
        "You are tasked with rating AI generated answers to questions posed by users.\n",
        "You will be presented a question, context used by the AI system to generate the answer and an AI generated answer to the question.\n",
        "In the input, the question will begin with ###Question, the context will begin with ###Context while the AI generated answer will begin with ###Answer.\n",
        "\n",
        "Evaluation criteria:\n",
        "The task is to judge the extent to which the metric is followed by the answer.\n",
        "1 - The metric is not followed at all\n",
        "2 - The metric is followed only to a limited extent\n",
        "3 - The metric is followed to a good extent\n",
        "4 - The metric is followed mostly\n",
        "5 - The metric is followed completely\n",
        "\n",
        "Metric:\n",
        "Relevance measures how well the answer addresses the main aspects of the question, based on the context.\n",
        "Consider whether all and only the important aspects are contained in the answer when evaluating relevance.\n",
        "\n",
        "Instructions:\n",
        "1. First write down the steps that are needed to evaluate the context as per the metric.\n",
        "2. Give a step-by-step explanation if the context adheres to the metric considering the question as the input.\n",
        "3. Next, evaluate the extent to which the metric is followed.\n",
        "4. Use the previous information to rate the context using the evaluaton criteria and assign a score.\n",
        "Return only the Score in last in a dictionary format not json and score should be in the range of 1 to 5.\n",
        "Example {relevance_score:4}\n",
        "\"\"\""
      ]
    },
    {
      "cell_type": "code",
      "execution_count": null,
      "metadata": {
        "id": "7boMupgh_Gux",
        "tags": []
      },
      "outputs": [],
      "source": [
        "user_message_template = \"\"\"\n",
        "###Question\n",
        "{question}\n",
        "\n",
        "###Context\n",
        "{context}\n",
        "\n",
        "###Answer\n",
        "{answer}\n",
        "\"\"\""
      ]
    },
    {
      "cell_type": "markdown",
      "metadata": {
        "id": "WCz_qS6jQ5cL"
      },
      "source": [
        "***Prompt***:\n",
        "\n",
        "<font size=3 color=\"#4682B4\"><b>Create a function to assess groundedness and relevance that takes a question and answer, retrieves relevant context, and uses predefined prompts to evaluate the response using the OpenAI model.\n",
        "</font>"
      ]
    },
    {
      "cell_type": "code",
      "source": [
        "def generate_ground_relevance_response(user_input,response, max_tokens=500,temperature=0,top_p=0.95):\n",
        "    global qna_user_message_template\n",
        "\n",
        "    context_for_query = [doc.page_content for doc in retriever.get_relevant_documents(user_input, k=5)]\n",
        "\n",
        "    # Combine user_prompt and system_message to create the prompt\n",
        "    groundedness_prompt = f\"\"\"[INST]{groundedness_rater_system_message}\\n\n",
        "                {'user'}: {user_message_template.format(context=context_for_query, question=user_input, answer=response)}\n",
        "                [/INST]\"\"\"\n",
        "\n",
        "    # Combine user_prompt and system_message to create the prompt\n",
        "    relevance_prompt = f\"\"\"[INST]{relevance_rater_system_message}\\n\n",
        "                {'user'}: {user_message_template.format(context=context_for_query, question=user_input, answer=response)}\n",
        "                [/INST]\"\"\"\n",
        "\n",
        "    response_1 = client.chat.completions.create(\n",
        "            model=\"gpt-4o\",\n",
        "            messages=[\n",
        "                {\"role\": \"user\", \"content\": groundedness_prompt}\n",
        "                ],\n",
        "            max_tokens=max_tokens,\n",
        "            temperature=temperature,\n",
        "            top_p=top_p\n",
        "            )\n",
        "\n",
        "    response_2 = client.chat.completions.create(\n",
        "            model=\"gpt-4o\",\n",
        "            messages=[\n",
        "                {\"role\": \"user\", \"content\": relevance_prompt}\n",
        "                ],\n",
        "            max_tokens=max_tokens,\n",
        "            temperature=temperature,\n",
        "            top_p=top_p\n",
        "            )\n",
        "\n",
        "    return response_1.choices[0].message.content,response_2.choices[0].message.content"
      ],
      "metadata": {
        "id": "q9UVEOZbXYlh"
      },
      "execution_count": null,
      "outputs": []
    },
    {
      "cell_type": "markdown",
      "source": [
        "### **Evaluation 1: Base Prompt Response Evaluation**"
      ],
      "metadata": {
        "id": "h_kKHCe2mqpE"
      }
    },
    {
      "cell_type": "code",
      "source": [
        "# Question 1\n",
        "llm_judge_base_ground_1,llm_judge_base_rel_1 = generate_ground_relevance_response(user_input=question_1, response=result_df.base_prompt_responses[0])\n",
        "print(llm_judge_base_ground_1,end=\"\\n\\n\")\n",
        "print(llm_judge_base_rel_1)"
      ],
      "metadata": {
        "id": "iJ-lchv-sVJ6"
      },
      "execution_count": null,
      "outputs": []
    },
    {
      "cell_type": "code",
      "source": [
        "# Question 2\n",
        "llm_judge_base_ground_2,llm_judge_base_rel_2 = generate_ground_relevance_response(user_input=result_df.questions[1], response=result_df.base_prompt_responses[1], max_tokens=500)\n",
        "print(llm_judge_base_ground_2,end=\"\\n\\n\")\n",
        "print(llm_judge_base_rel_2)"
      ],
      "metadata": {
        "id": "mjQHf0DgnNEQ"
      },
      "execution_count": null,
      "outputs": []
    },
    {
      "cell_type": "code",
      "source": [
        "# Question 3\n",
        "llm_judge_base_ground_3,llm_judge_base_rel_3 = generate_ground_relevance_response(user_input=result_df.questions[2],response=result_df.base_prompt_responses[2], max_tokens=500)\n",
        "print(llm_judge_base_ground_3,end=\"\\n\\n\")\n",
        "print(llm_judge_base_rel_3)"
      ],
      "metadata": {
        "id": "3VmHQIa-nX9W"
      },
      "execution_count": null,
      "outputs": []
    },
    {
      "cell_type": "markdown",
      "source": [
        "> **Note:** We are using `llm_judge_base_ground_1[-2]` to extract the second-to-last element from the model's output because the prompt is structured to return the final score as a dictionary at the end, like this: `{'relevance_score': 5}`.\n"
      ],
      "metadata": {
        "id": "qr_yZ8M0RYZx"
      }
    },
    {
      "cell_type": "code",
      "source": [
        "# Create a DataFrame to store the base prompt evaluation results\n",
        "base_prompt_evaluation_df = pd.DataFrame({\n",
        "    \"question\": [question_1, question_2, question_3],\n",
        "    \"base_prompt_response\": [result_df.base_prompt_responses[0], result_df.base_prompt_responses[1], result_df.base_prompt_responses[2]],\n",
        "    \"groundedness_score\": [llm_judge_base_ground_1[-2], llm_judge_base_ground_2[-2], llm_judge_base_ground_3[-2]],\n",
        "    \"relevance_score\": [llm_judge_base_rel_1[-2], llm_judge_base_rel_2[-2], llm_judge_base_rel_3[-2]]\n",
        "})\n",
        "\n",
        "base_prompt_evaluation_df['groundedness_score'] = pd.to_numeric(base_prompt_evaluation_df['groundedness_score'], errors='coerce')\n",
        "base_prompt_evaluation_df['relevance_score'] = pd.to_numeric(base_prompt_evaluation_df['relevance_score'], errors='coerce')\n",
        "\n",
        "# Display the DataFrame\n",
        "display(base_prompt_evaluation_df)"
      ],
      "metadata": {
        "id": "50ay8PYb-cXW"
      },
      "execution_count": null,
      "outputs": []
    },
    {
      "cell_type": "markdown",
      "source": [
        "### **Evaluation 2: RAG Response Evaluation**"
      ],
      "metadata": {
        "id": "y7wXIFmfn4tX"
      }
    },
    {
      "cell_type": "code",
      "source": [
        "# Question 1\n",
        "llm_judge_rag_ground_1,llm_judge_rag_rel_1 = generate_ground_relevance_response(user_input=result_df.questions[0], response=result_df.responses_with_RAG[0], max_tokens=500)\n",
        "print(llm_judge_rag_ground_1,end=\"\\n\\n\")\n",
        "print(llm_judge_rag_rel_1)"
      ],
      "metadata": {
        "id": "lPGdtRCcoBIi"
      },
      "execution_count": null,
      "outputs": []
    },
    {
      "cell_type": "code",
      "source": [
        "# Question 2\n",
        "llm_judge_rag_ground_2,llm_judge_rag_rel_2 = generate_ground_relevance_response(user_input=result_df.questions[1], response=result_df.responses_with_RAG[1], max_tokens=500)\n",
        "print(llm_judge_rag_ground_2,end=\"\\n\\n\")\n",
        "print(llm_judge_rag_rel_2)"
      ],
      "metadata": {
        "id": "ZrB06dkBoBIj"
      },
      "execution_count": null,
      "outputs": []
    },
    {
      "cell_type": "code",
      "source": [
        "# Question 3\n",
        "llm_judge_rag_ground_3,llm_judge_rag_rel_3 = generate_ground_relevance_response(user_input=result_df.questions[2], response=result_df.responses_with_RAG[2], max_tokens=500)\n",
        "print(llm_judge_rag_ground_3,end=\"\\n\\n\")\n",
        "print(llm_judge_rag_rel_3)"
      ],
      "metadata": {
        "id": "pCFMhRGUoBIj"
      },
      "execution_count": null,
      "outputs": []
    },
    {
      "cell_type": "code",
      "source": [
        "# Create a DataFrame to store the RAG response evaluation results\n",
        "rag_response_evaluation_df = pd.DataFrame({\n",
        "    \"question\": [question_1, question_2, question_3],\n",
        "    \"rag_response\": [result_df.responses_with_RAG[0], result_df.responses_with_RAG[1], result_df.responses_with_RAG[2]],\n",
        "    \"groundedness_score\": [llm_judge_rag_ground_1[-2], llm_judge_rag_ground_2[-2], llm_judge_rag_ground_3[-2]],\n",
        "    \"relevance_score\": [llm_judge_rag_rel_1[-2], llm_judge_rag_rel_2[-2], llm_judge_rag_rel_3[-2]]\n",
        "})\n",
        "\n",
        "rag_response_evaluation_df['groundedness_score'] = pd.to_numeric(rag_response_evaluation_df['groundedness_score'], errors='coerce')\n",
        "rag_response_evaluation_df['relevance_score'] = pd.to_numeric(rag_response_evaluation_df['relevance_score'], errors='coerce')\n",
        "\n",
        "\n",
        "# Display the DataFrame\n",
        "display(rag_response_evaluation_df)"
      ],
      "metadata": {
        "id": "xoKUWB4F_t4d"
      },
      "execution_count": null,
      "outputs": []
    },
    {
      "cell_type": "code",
      "source": [
        "print(\"Average scores for Base Prompt Evaluation:\")\n",
        "print(base_prompt_evaluation_df[['groundedness_score', 'relevance_score']].mean(numeric_only=True))\n",
        "print(\"\\nAverage scores for RAG Response Evaluation:\")\n",
        "print(rag_response_evaluation_df[['groundedness_score', 'relevance_score']].mean(numeric_only=True))"
      ],
      "metadata": {
        "id": "J4RxzaBsABFe"
      },
      "execution_count": null,
      "outputs": []
    },
    {
      "cell_type": "markdown",
      "source": [
        "### Observations"
      ],
      "metadata": {
        "id": "CMV_Mi5f5eVW"
      }
    },
    {
      "cell_type": "markdown",
      "source": [
        "- RAG consistently achieves the highest scores in both groundedness and relevance. This is expected since RAG leverages retrieved documents or external knowledge to generate accurate and well-supported responses.\n",
        "\n",
        "- Base Prompt responses generally score lower in groundedness, often containing generic or hallucinated statements due to the absence of prompt structure and supporting context.\n",
        "\n",
        "- RAG’s superior groundedness scores suggest that its answers closely align with retrieved information, minimizing factual errors and enhancing trustworthiness.\n"
      ],
      "metadata": {
        "id": "D2QRDwHRoPyc"
      }
    },
    {
      "cell_type": "markdown",
      "source": [
        "## Evaluating Output with RAGAS"
      ],
      "metadata": {
        "id": "tcR3j2jHiiaR"
      }
    },
    {
      "cell_type": "markdown",
      "source": [
        "<h4><b> What is RAGAS? </b></h4>\n",
        "\n",
        "\n",
        "**RAGAS** (Retrieval-Augmented Generation Assessment Score) is an open-source Python framework designed to **evaluate RAG pipelines** using a set of quantitative metrics. The framework assesses:\n",
        "\n",
        "- **Answer relevance**: How well the generated answer addresses the user's question  \n",
        "- **Answer faithfulness**: Whether the answer is supported by the retrieved documents  \n",
        "- **Context utility**: How useful the retrieved documents were in producing the answer\n",
        "\n",
        "RAGAS requires **structured input** wrapped in a **Hugging Face `Dataset` object**, containing:\n",
        "\n",
        "- The user's query  \n",
        "- Retrieved documents or context chunks  \n",
        "- The generated answer from the RAG system  \n",
        "- *(Optional)* A reference answer for comparison  \n",
        "\n",
        "With the inputs, it produces **per-example metric scores** that are **normalized between 0 and 1**, where higher values indicate better performance.\n",
        "\n",
        "<br>\n",
        "\n",
        "*To explore RAGAS further, check out the official [RAGAS Documentation](https://docs.ragas.io).*"
      ],
      "metadata": {
        "id": "dI5--f1FPPav"
      }
    },
    {
      "cell_type": "markdown",
      "source": [
        "<h4><b> RAGAS Metrics </b></h4>\n",
        "\n",
        "It provides several metrics, some of which can work without reference answers, making it easier to assess real-world systems where the perfect answer may not exist.\n",
        "\n",
        "\n",
        "![image.png](data:image/png;base64,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)"
      ],
      "metadata": {
        "id": "ojVoOSu_4X4-"
      }
    },
    {
      "cell_type": "markdown",
      "source": [
        "Since we don't have reference answers, we will evaluate our RAG pipeline using the following:\n",
        "* **Faithfulness**\n",
        "* **Answer Relevancy**\n",
        "* **Context Precision (Without Reference)**"
      ],
      "metadata": {
        "id": "-2nyayR6KwtE"
      }
    },
    {
      "cell_type": "markdown",
      "source": [
        "### **Initialize the evaluator LLM and Metrics**"
      ],
      "metadata": {
        "id": "Aa32_alNPmPd"
      }
    },
    {
      "cell_type": "markdown",
      "metadata": {
        "id": "9jWVtTRvIuYz"
      },
      "source": [
        "***Prompt***:\n",
        "\n",
        "<font size=3 color=\"#4682B4\"><b>Set up the evaluator LLM using ChatOpenAI and define the metrics for faithfulness, answer relevancy, and context precision.\n",
        "</font>"
      ]
    },
    {
      "cell_type": "code",
      "source": [
        "# Initialize the evaluator LLM\n",
        "evaluator_llm = ChatOpenAI(model_name=\"gpt-4o\", temperature=0)\n",
        "\n",
        "# Initialize evaluation metrics\n",
        "faithfulness = Faithfulness()\n",
        "answer_relevancy = AnswerRelevancy()\n",
        "context_precision = LLMContextPrecisionWithoutReference()"
      ],
      "metadata": {
        "id": "ix7BRX_3Nmu0"
      },
      "execution_count": null,
      "outputs": []
    },
    {
      "cell_type": "markdown",
      "source": [
        "### **Prepare Data: Questions, Contexts, and Responses**"
      ],
      "metadata": {
        "id": "D3jUEFJVQAN1"
      }
    },
    {
      "cell_type": "markdown",
      "metadata": {
        "id": "kEVQnge6Iu84"
      },
      "source": [
        "***Prompt***:\n",
        "\n",
        "<font size=3 color=\"#4682B4\"><b> Extract questions and different response types from result_df, and retrieve top-6 relevant context documents for each question.\n",
        "</font>"
      ]
    },
    {
      "cell_type": "code",
      "source": [
        "questions = result_df.questions.to_list()                                       # List of user questions\n",
        "base_prompt_responses = result_df.base_prompt_responses.to_list()               # Responses without prompt engineering\n",
        "responses_with_rag = result_df.responses_with_RAG.to_list()                     # Responses from RAG pipeline\n",
        "\n",
        "# Retrieve top-k documents as context for each question\n",
        "contexts = [\n",
        "    [doc.page_content for doc in retriever.get_relevant_documents(q, k=6)]      # Get top 6 docs for each question\n",
        "    for q in questions\n",
        "]"
      ],
      "metadata": {
        "id": "qlegaDbf2xNF"
      },
      "execution_count": null,
      "outputs": []
    },
    {
      "cell_type": "markdown",
      "source": [
        "### **Evaluation 1: Base Prompt Response Evaluation**"
      ],
      "metadata": {
        "id": "hg7ZCtuqJprW"
      }
    },
    {
      "cell_type": "markdown",
      "metadata": {
        "id": "KZza6w0aIvkh"
      },
      "source": [
        "***Prompt***:\n",
        "\n",
        "<font size=3 color=\"#4682B4\"><b>Wrap base-prompt generated answers into a Dataset, run RAGAS evaluation using the defined metrics, and convert the results to a DataFrame.\n",
        "</font>"
      ]
    },
    {
      "cell_type": "code",
      "source": [
        "# Wrap into HuggingFace Dataset\n",
        "ragas_dataset_base_prompt = Dataset.from_dict({\n",
        "    \"question\": questions,\n",
        "    \"answer\": base_prompt_responses,\n",
        "    \"contexts\": contexts,\n",
        "    \"reference\": questions\n",
        "})\n",
        "\n",
        "# Run RAGAS evaluation\n",
        "result_base_prompt = evaluate(\n",
        "    ragas_dataset_base_prompt,\n",
        "    metrics=[\n",
        "        answer_relevancy,\n",
        "        context_precision,\n",
        "        faithfulness,\n",
        "    ],\n",
        "    llm=evaluator_llm,\n",
        "    embeddings=embedding_model\n",
        ")\n",
        "\n",
        "# Convert results to DataFrame\n",
        "df_base_prompt = result_base_prompt.to_pandas()\n",
        "df_base_prompt"
      ],
      "metadata": {
        "id": "AlkOFWD3P4qz"
      },
      "execution_count": null,
      "outputs": []
    },
    {
      "cell_type": "markdown",
      "source": [
        "### **Evaluation 2: RAG Response Evaluation**"
      ],
      "metadata": {
        "id": "p_AIPJnxMdgj"
      }
    },
    {
      "cell_type": "markdown",
      "metadata": {
        "id": "5hKbnNuiIxUM"
      },
      "source": [
        "***Prompt***:\n",
        "\n",
        "<font size=3 color=\"#4682B4\"><b>Wrap RAG-generated answers into a Dataset, run RAGAS evaluation using the defined metrics, and convert the results to a DataFrame.\n",
        "\n",
        "\n",
        "</font>"
      ]
    },
    {
      "cell_type": "code",
      "source": [
        "# Wrap into HuggingFace Dataset\n",
        "ragas_dataset_with_RAG = Dataset.from_dict({\n",
        "    \"question\": questions,\n",
        "    \"answer\": responses_with_rag,\n",
        "    \"contexts\": contexts,\n",
        "    \"reference\": questions\n",
        "})\n",
        "\n",
        "# Run RAGAS evaluation\n",
        "result_with_rag = evaluate(\n",
        "    ragas_dataset_with_RAG,\n",
        "    metrics=[\n",
        "        answer_relevancy,\n",
        "        context_precision,\n",
        "        faithfulness,\n",
        "    ],\n",
        "    llm=evaluator_llm,\n",
        "    embeddings=embedding_model\n",
        ")\n",
        "\n",
        "# Convert results to DataFrame\n",
        "df_rag = result_with_rag.to_pandas()\n",
        "df_rag"
      ],
      "metadata": {
        "id": "GESPRv4LMiHR"
      },
      "execution_count": null,
      "outputs": []
    },
    {
      "cell_type": "markdown",
      "metadata": {
        "id": "uAEV42xgQeSy"
      },
      "source": [
        "***Prompt***:\n",
        "\n",
        "<font size=3 color=\"#4682B4\"><b>Print the mean values of RAGAS metrics for base prompts and RAG-based outputs.\n",
        "\n",
        "</font>"
      ]
    },
    {
      "cell_type": "code",
      "source": [
        "print(\"Average scores for Base Prompt Evaluation:\")\n",
        "print(df_base_prompt.mean(numeric_only=True))\n",
        "print(\"\\nAverage scores for RAG Response Evaluation:\")\n",
        "print(df_rag.mean(numeric_only=True))"
      ],
      "metadata": {
        "id": "-cHZJuI1KfNr"
      },
      "execution_count": null,
      "outputs": []
    },
    {
      "cell_type": "markdown",
      "source": [
        "### Observations"
      ],
      "metadata": {
        "id": "ShC9KdDs57DO"
      }
    },
    {
      "cell_type": "markdown",
      "source": [
        "* Answer Relevancy remains high (generally above 0.90) in both evaluations, showing that the generated responses are relevant to the user’s questions.\n",
        "* LLM Context Precision Without Reference sees a slight improvement with RAG, indicating that the retriever consistently returns relevant information for all queries.\n",
        "* Faithfulness (Groundedness) scores are high in RAG responses, showing that answers are well-supported by the retrieved context. Lower faithfulness scores for the base model indicate inconsistencies between the answers and the context, which is expected since this method does not have access to the actual context.\n"
      ],
      "metadata": {
        "id": "viegoY_ASMJx"
      }
    },
    {
      "cell_type": "markdown",
      "source": [
        "# [OPTIONAL] Deployment"
      ],
      "metadata": {
        "id": "Zmr3wnbT_jAX"
      }
    },
    {
      "cell_type": "markdown",
      "source": [
        "The deployment section is only meant to demonstrate the research assistant in action; we won’t be diving deep into the code here.\n"
      ],
      "metadata": {
        "id": "SXKQbrnoMmxX"
      }
    },
    {
      "cell_type": "markdown",
      "source": [
        "## Streamlit on Hugging Face"
      ],
      "metadata": {
        "id": "yHKUaar2KtDi"
      }
    },
    {
      "cell_type": "markdown",
      "source": [
        "### app.py"
      ],
      "metadata": {
        "id": "l54U7FCxDnDl"
      }
    },
    {
      "cell_type": "markdown",
      "source": [
        "**NOTE**: You can use this prompt to generate the code for buidling the Streamlit app. However, a few minor adjustments might be needed afterwards."
      ],
      "metadata": {
        "id": "WKWjfsLj8mbR"
      }
    },
    {
      "cell_type": "markdown",
      "metadata": {
        "id": "XIkF0sZOaCTA"
      },
      "source": [
        "***Prompt***:\n",
        "\n",
        "<font size=3 color=\"#4682B4\"><b>Build a Streamlit app that lets users upload PDFs and ask questions, with answers generated via OpenAI using RAG.\n",
        "</font>"
      ]
    },
    {
      "cell_type": "code",
      "source": [
        "# %%writefile app.py\n",
        "\n",
        "# import streamlit as st\n",
        "# import os\n",
        "# import json\n",
        "# import requests\n",
        "# from langchain_community.document_loaders import PyMuPDFLoader\n",
        "# from openai import OpenAI\n",
        "# import tiktoken\n",
        "# import pandas as pd\n",
        "# from langchain.text_splitter import RecursiveCharacterTextSplitter\n",
        "# from langchain_community.embeddings.openai import OpenAIEmbeddings\n",
        "# from langchain_community.vectorstores import Chroma\n",
        "# import tempfile\n",
        "\n",
        "\n",
        "# OPENAI_API_KEY = os.environ.get(\"API_KEY\")\n",
        "# OPENAI_API_BASE = os.environ.get(\"API_BASE\")\n",
        "\n",
        "# # Initialize OpenAI client\n",
        "# client = OpenAI(\n",
        "#     api_key=OPENAI_API_KEY,\n",
        "#     base_url=OPENAI_API_BASE\n",
        "# )\n",
        "\n",
        "# # Define the system prompt for the model\n",
        "# qna_system_message = \"\"\"\n",
        "# You are an AI assistant designed to support research teams in efficiently reviewing scientific literature. Your task is to provide evidence-based, concise, and relevant summaries based on the context provided from research papers.\n",
        "\n",
        "# User input will include the necessary context for you to answer their questions. This context will begin with the token:\n",
        "\n",
        "# ###Context\n",
        "# The context contains excerpts from one or more research papers, along with associated metadata such as titles, authors, abstracts, keywords, and specific sections relevant to the query.\n",
        "\n",
        "# When crafting your response\n",
        "# -Use only the provided context to answer the question.\n",
        "# -If the answer is found in the context, respond with concise and insight-focused summaries.\n",
        "# -Include the paper title and, where applicable, arXiv ID or section reference as the source.\n",
        "# -If the question is unrelated to the context or the context is empty, clearly respond with: \"Sorry, this is out of my knowledge base.\"\n",
        "\n",
        "\n",
        "# Please adhere to the following response guidelines:\n",
        "# -Provide clear, direct answers using only the given context.\n",
        "# -Do not include any additional information outside of the context.\n",
        "# -Avoid rephrasing or generalizing unless explicitly relevant to the question.\n",
        "# -If no relevant answer exists in the context, respond with: \"Sorry, this is out of my knowledge base.\"\n",
        "# -If the context is not provided, your response should also be: \"Sorry, this is out of my knowledge base.\"\n",
        "\n",
        "\n",
        "# Here is an example of how to structure your response:\n",
        "\n",
        "# Answer:\n",
        "# [Answer based on context]\n",
        "\n",
        "# Source:\n",
        "# [Source details with page or section]\n",
        "# \"\"\"\n",
        "\n",
        "# # Define the user message template\n",
        "# qna_user_message_template = \"\"\"\n",
        "# ###Context\n",
        "# Here are some excerpts from GEN AI Research Paper and their sources that are relevant to the Gen AI question mentioned below:\n",
        "# {context}\n",
        "# ###Question\n",
        "# {question}\n",
        "# \"\"\"\n",
        "\n",
        "# @st.cache_resource\n",
        "# def load_and_process_pdfs(uploaded_files):\n",
        "#     all_documents = []\n",
        "#     for uploaded_file in uploaded_files:\n",
        "#         with tempfile.NamedTemporaryFile(delete=False, suffix=\".pdf\") as tmp_file:\n",
        "#             tmp_file.write(uploaded_file.getvalue())\n",
        "#             tmp_file_path = tmp_file.name\n",
        "#         loader = PyMuPDFLoader(tmp_file_path)\n",
        "#         documents = loader.load()\n",
        "#         all_documents.extend(documents)\n",
        "#         os.remove(tmp_file_path) # Clean up the temporary file\n",
        "#     text_splitter = RecursiveCharacterTextSplitter.from_tiktoken_encoder(\n",
        "#         encoding_name='cl100k_base',\n",
        "#         chunk_size=1000,\n",
        "#     )\n",
        "#     document_chunks = text_splitter.split_documents(all_documents)\n",
        "\n",
        "#     embedding_model = OpenAIEmbeddings(\n",
        "#         openai_api_key=OPENAI_API_KEY,\n",
        "#         openai_api_base=OPENAI_API_BASE\n",
        "#     )\n",
        "\n",
        "#     # Create an in-memory vector store (or use a persistent one if needed)\n",
        "#     vectorstore = Chroma.from_documents(\n",
        "#         document_chunks,\n",
        "#         embedding_model\n",
        "#     )\n",
        "#     return vectorstore.as_retriever(search_type='similarity', search_kwargs={'k': 5})\n",
        "\n",
        "# def generate_rag_response(user_input, retriever, max_tokens=500, temperature=0, top_p=0.95):\n",
        "#     # Retrieve relevant document chunks\n",
        "#     relevant_document_chunks = retriever.get_relevant_documents(query=user_input)\n",
        "#     context_list = [d.page_content for d in relevant_document_chunks]\n",
        "\n",
        "#     # Combine document chunks into a single context\n",
        "#     context_for_query = \". \".join(context_list)\n",
        "\n",
        "#     user_message = qna_user_message_template.replace('{context}', context_for_query)\n",
        "#     user_message = user_message.replace('{question}', user_input)\n",
        "\n",
        "#     # Generate the response\n",
        "#     try:\n",
        "#         response = client.chat.completions.create(\n",
        "#             model=\"gpt-4o-mini\",\n",
        "#             messages=[\n",
        "#                 {\"role\": \"system\", \"content\": qna_system_message},\n",
        "#                 {\"role\": \"user\", \"content\": user_message}\n",
        "#             ],\n",
        "#             max_tokens=max_tokens,\n",
        "#             temperature=temperature,\n",
        "#             top_p=top_p\n",
        "#         )\n",
        "#         response = response.choices[0].message.content.strip()\n",
        "#     except Exception as e:\n",
        "#         response = f'Sorry, I encountered the following error: \\n {e}'\n",
        "\n",
        "#     return response\n",
        "\n",
        "# # Streamlit App\n",
        "# st.title(\"LLM-Powered Research Assistant\")\n",
        "\n",
        "# uploaded_files = st.file_uploader(\"Upload PDF files\", type=[\"pdf\"], accept_multiple_files=True)\n",
        "\n",
        "# retriever = None\n",
        "# if uploaded_files:\n",
        "#     st.info(\"Processing uploaded PDFs...\")\n",
        "#     retriever = load_and_process_pdfs(uploaded_files)\n",
        "#     st.success(\"PDFs processed and ready for questioning!\")\n",
        "\n",
        "\n",
        "# if retriever:\n",
        "#     user_question = st.text_input(\"Ask a question about the uploaded documents:\")\n",
        "#     if user_question:\n",
        "#         with st.spinner(\"Generating response...\"):\n",
        "#             rag_response = generate_rag_response(user_question, retriever)\n",
        "#             st.write(rag_response)"
      ],
      "metadata": {
        "id": "1Od2sdFtZjE3"
      },
      "execution_count": null,
      "outputs": []
    },
    {
      "cell_type": "markdown",
      "source": [
        "### Docker File"
      ],
      "metadata": {
        "id": "17VcIdIcDadL"
      }
    },
    {
      "cell_type": "code",
      "source": [
        "# %%writefile Dockerfile\n",
        "\n",
        "# FROM python:3.9-slim\n",
        "\n",
        "# WORKDIR /app\n",
        "\n",
        "# RUN apt-get update && apt-get install -y \\\n",
        "#     build-essential \\\n",
        "#     curl \\\n",
        "#     software-properties-common \\\n",
        "#     git \\\n",
        "#     && rm -rf /var/lib/apt/lists/*\n",
        "\n",
        "# COPY requirements.txt ./\n",
        "# COPY app.py ./\n",
        "# COPY src/ ./src/\n",
        "\n",
        "# RUN pip3 install -r requirements.txt\n",
        "\n",
        "# EXPOSE 8501\n",
        "\n",
        "# HEALTHCHECK CMD curl --fail http://localhost:8501/_stcore/health\n",
        "\n",
        "# ENTRYPOINT [\"streamlit\", \"run\", \"app.py\", \"--server.port=8501\", \"--server.address=0.0.0.0\",\"--server.enableXsrfProtection=false\"]\n"
      ],
      "metadata": {
        "id": "l9TC_tYtGd9C"
      },
      "execution_count": null,
      "outputs": []
    },
    {
      "cell_type": "markdown",
      "source": [
        "### requirements.txt"
      ],
      "metadata": {
        "id": "5DSuuldPKKId"
      }
    },
    {
      "cell_type": "code",
      "source": [
        "# %%writefile requirements.txt\n",
        "\n",
        "# langchain_community==0.3.27\n",
        "# langchain==0.3.27\n",
        "# chromadb==1.0.15\n",
        "# pymupdf==1.26.3\n",
        "# tiktoken==0.9.0\n",
        "# datasets==4.0.0\n",
        "# evaluate==0.4.5\n",
        "# streamlit==1.35.0\n",
        "# openai==1.99.1\n",
        "# langchain_openai==0.3.28"
      ],
      "metadata": {
        "id": "DXisdYJ7Gehs"
      },
      "execution_count": null,
      "outputs": []
    },
    {
      "cell_type": "markdown",
      "source": [
        "## Hugging Face Setup"
      ],
      "metadata": {
        "id": "LgOKkAclIi46"
      }
    },
    {
      "cell_type": "markdown",
      "source": [
        "#### 1. Login to Hugging Face"
      ],
      "metadata": {
        "id": "7nTsv5ZqoH-z"
      }
    },
    {
      "cell_type": "markdown",
      "source": [
        "Go to [Hugging face](https://huggingface.co) and sign up or log in to your account."
      ],
      "metadata": {
        "id": "um5a84WIoP2j"
      }
    },
    {
      "cell_type": "markdown",
      "source": [
        "#### 2. Create a New Space"
      ],
      "metadata": {
        "id": "MCzdrLYgoYsG"
      }
    },
    {
      "cell_type": "markdown",
      "source": [
        "   * Navigate to [Hugging face Spaces ](https://huggingface.co/spaces).\n",
        "   * Click **Create New Space**.\n",
        "   * Fill in:\n",
        "\n",
        "     * Name for your Space.\n",
        "     * Space SDK: Select **Docker**.\n",
        "     * Choose a Docker template: Select **Streamlit**\n",
        "     * Visibility: Choose *Public* or *Private*.\n",
        "   * Click **Create Space**."
      ],
      "metadata": {
        "id": "iReg7welocEh"
      }
    },
    {
      "cell_type": "markdown",
      "source": [
        "#### 3. Setup OpenAI tokens\n",
        "\n",
        "\n"
      ],
      "metadata": {
        "id": "N_GU8gcMJ5e1"
      }
    },
    {
      "cell_type": "markdown",
      "source": [
        "- Open your Hugging Face Space\n",
        "\n",
        "- Click on the **“Settings”** tab at the top of the Space.\n",
        "\n",
        "- Scroll down to the **“Repository secrets”** section.\n",
        "\n",
        "- Click **“Add a new secret”**.\n",
        "\n",
        "- In the **Name** field, type token name\n",
        "\n",
        "- In the **Secret** field, paste your secret key\n",
        "\n",
        "- Click **“Add secret”** to save it.\n"
      ],
      "metadata": {
        "id": "3p8iaRcqJwPk"
      }
    },
    {
      "cell_type": "markdown",
      "source": [
        "#### 4. Upload Your Files\n",
        "\n",
        "\n"
      ],
      "metadata": {
        "id": "mrEhsirkos1w"
      }
    },
    {
      "cell_type": "markdown",
      "source": [
        "   * In the new Space, click the **Files** tab.\n",
        "   * Delete existing requirements.txt , DockerFile\n",
        "   * Click Contribute then Upload files and add:\n",
        "\n",
        "     * `app.py`\n",
        "     * `requirements.txt`\n",
        "     * `DockerFile`\n",
        "   * Commit the upload."
      ],
      "metadata": {
        "id": "8f2e8YFbo2Jg"
      }
    },
    {
      "cell_type": "markdown",
      "source": [
        "#### 5. Build and Launch\n",
        "\n"
      ],
      "metadata": {
        "id": "mMJf9s2WpMoi"
      }
    },
    {
      "cell_type": "markdown",
      "source": [
        "   * Hugging Face will automatically detect the `Dockerfile` and start building the container.\n",
        "   * Wait a few minutes for the build to complete and the app to go live."
      ],
      "metadata": {
        "id": "Z7MBsOPppdvk"
      }
    },
    {
      "cell_type": "markdown",
      "source": [
        "#### 6. Access and Test"
      ],
      "metadata": {
        "id": "nIHFm30QpluH"
      }
    },
    {
      "cell_type": "markdown",
      "source": [
        "* Go to the App tab or the Space URL to view and test your running Streamlit app.\n",
        "\n"
      ],
      "metadata": {
        "id": "d_hHgiFlpoN0"
      }
    },
    {
      "cell_type": "markdown",
      "source": [
        "# Conclusion"
      ],
      "metadata": {
        "id": "v_OxiKnrjQ1M"
      }
    },
    {
      "cell_type": "markdown",
      "source": [
        "<font size=4>Business Impact</font>\n",
        "\n",
        "* **Enhanced Decision-Making**: Quick access to key insights and emerging trends empowers research teams to make informed, timely decisions.\n",
        "* **Scalable Knowledge Management**: Structured outputs enable better indexing, retrieval, and organization of research content, improving long-term knowledge curation.\n",
        "\n",
        "This approach lays the groundwork for building intelligent research support systems that are scalable, context-aware, and aligned with the dynamic needs of innovation-driven industries.\n",
        "\n",
        "<font size=4>Improvement Areas</font>\n",
        "\n",
        "* The system currently depends on the quality and consistency of input PDFs and may struggle with poorly formatted or scanned documents.\n",
        "* While the LLM captures high-level insights, deeper domain-specific interpretations may require fine-tuning or human validation."
      ],
      "metadata": {
        "id": "XcP6LhUoCd0Z"
      }
    },
    {
      "cell_type": "markdown",
      "metadata": {
        "id": "ybRlzaIhWaM9"
      },
      "source": [
        "<font size=6 color='#4682B4'>Power Ahead</font>\n",
        "___"
      ]
    }
  ]
}